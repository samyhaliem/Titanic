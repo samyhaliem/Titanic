{
  "nbformat": 4,
  "nbformat_minor": 0,
  "metadata": {
    "colab": {
      "private_outputs": true,
      "provenance": []
    },
    "kernelspec": {
      "name": "python3",
      "display_name": "Python 3"
    },
    "language_info": {
      "name": "python"
    }
  },
  "cells": [
    {
      "cell_type": "code",
      "execution_count": null,
      "metadata": {
        "id": "6strPT7LlQWd"
      },
      "outputs": [],
      "source": [
        "## Import the library\n",
        "import pandas as pd\n",
        "import numpy  as np\n",
        "import matplotlib.pyplot as   plt\n",
        "import seaborn as sns\n",
        "import plotly.express as px\n",
        "%matplotlib inline\n",
        "import warnings\n",
        "warnings.filterwarnings(\"ignore\")\n",
        "plt.style.use('fivethirtyeight')\n",
        "sns.set()\n",
        "pd.options.display.float_format = '{:,.2f}'.format\n",
        "pd.options.display.max_rows = None\n",
        "pd.options.display.max_columns = None"
      ]
    },
    {
      "cell_type": "code",
      "source": [
        "df=pd.read_csv(\"https://raw.githubusercontent.com/guipsamora/pandas_exercises/master/07_Visualization/Titanic_Desaster/train.csv\")"
      ],
      "metadata": {
        "id": "D8FCKHmHlhh0"
      },
      "execution_count": null,
      "outputs": []
    },
    {
      "cell_type": "code",
      "source": [
        "df.info()"
      ],
      "metadata": {
        "id": "P7CHhPa0mHC_"
      },
      "execution_count": null,
      "outputs": []
    },
    {
      "cell_type": "code",
      "source": [
        "df.sample(5)"
      ],
      "metadata": {
        "id": "59QhWKsYmMxA"
      },
      "execution_count": null,
      "outputs": []
    },
    {
      "cell_type": "code",
      "source": [
        "df.isna().sum()"
      ],
      "metadata": {
        "id": "osORaV_2mZzY"
      },
      "execution_count": null,
      "outputs": []
    },
    {
      "cell_type": "code",
      "source": [
        "df=df.drop([\"Cabin\",\"Ticket\",\"Embarked\",\"Name\"],axis=1)"
      ],
      "metadata": {
        "id": "gVI3IYK6m0q7"
      },
      "execution_count": null,
      "outputs": []
    },
    {
      "cell_type": "code",
      "source": [
        "df.info()"
      ],
      "metadata": {
        "id": "U5-MjS0wm0oB"
      },
      "execution_count": null,
      "outputs": []
    },
    {
      "cell_type": "code",
      "source": [
        "median =df.Age.median()\n",
        "median"
      ],
      "metadata": {
        "id": "yFNYPo1bpKbq"
      },
      "execution_count": null,
      "outputs": []
    },
    {
      "cell_type": "code",
      "source": [
        "df.Age.mean()"
      ],
      "metadata": {
        "id": "xirOAKACpKX6"
      },
      "execution_count": null,
      "outputs": []
    },
    {
      "cell_type": "code",
      "source": [
        "df[\"Age\"].fillna(median,inplace=True)"
      ],
      "metadata": {
        "id": "sn5QyuGMpKOG"
      },
      "execution_count": null,
      "outputs": []
    },
    {
      "cell_type": "code",
      "source": [
        "df.info()"
      ],
      "metadata": {
        "id": "l4ajigGyqJ-v"
      },
      "execution_count": null,
      "outputs": []
    },
    {
      "cell_type": "code",
      "source": [
        "## data type object summary\n",
        "for col in df.columns:\n",
        "\n",
        "    # Check column dtype\n",
        "    if df[col].dtype == 'object':\n",
        "\n",
        "        # Column details\n",
        "        print(f\"Column: {col}\")\n",
        "\n",
        "        # Number of unique values\n",
        "        print(f\"Unique values: {df[col].unique()}\")\n",
        "\n",
        "        # Value counts\n",
        "        print(df[col].value_counts())\n",
        "\n",
        "        # Separator\n",
        "        print(\"=\"*40)"
      ],
      "metadata": {
        "id": "hQ5bM0zZsAu6"
      },
      "execution_count": null,
      "outputs": []
    },
    {
      "cell_type": "code",
      "source": [
        "## data type numiric summary\n",
        "for col in df.columns:\n",
        "\n",
        "    # Check column numiric\n",
        "    if df[col].dtype != 'object':\n",
        "\n",
        "        # Column details\n",
        "        print(f\"Column: {col}\")\n",
        "\n",
        "        # max & min values\n",
        "        print(f\"max: {df[col].max()}\",f\"min: {df[col].min()}\")\n",
        "\n",
        "        # Separator\n",
        "        print(\"=\"*40)"
      ],
      "metadata": {
        "id": "LKo7QY8SsAm9"
      },
      "execution_count": null,
      "outputs": []
    },
    {
      "cell_type": "code",
      "source": [
        "## select column object and column numeric\n",
        "obj=df.select_dtypes(include=\"object\")\n",
        "num=df.select_dtypes(exclude=\"object\")"
      ],
      "metadata": {
        "id": "9-hCjeWDsAX8"
      },
      "execution_count": null,
      "outputs": []
    },
    {
      "cell_type": "code",
      "source": [
        "## univariate analysis box plot (plotly)\n",
        "for i in num.columns:\n",
        "  fig = px.histogram(df[i])\n",
        "  fig.update_layout(title=\"Distribution of \" + i)\n",
        "  fig.update_xaxes(title=i)\n",
        "  fig.update_layout(title_x=.5)\n",
        "  fig.show()"
      ],
      "metadata": {
        "id": "rqLEPDiztISi"
      },
      "execution_count": null,
      "outputs": []
    },
    {
      "cell_type": "code",
      "source": [
        "for i in obj.columns:\n",
        "\n",
        "    fig=px.bar(data_frame=df[i].value_counts(),text_auto=True)\n",
        "    fig.update_layout(title=\"Distribution of \" + i)\n",
        "    fig.update_layout(xaxis_title= i)\n",
        "    fig.update_traces(textposition='outside')\n",
        "    fig.update_layout(title_x=.5)\n",
        "    fig.show()"
      ],
      "metadata": {
        "id": "vWsdk6epuAvz"
      },
      "execution_count": null,
      "outputs": []
    },
    {
      "cell_type": "markdown",
      "source": [
        "## Set PassengerId as the index."
      ],
      "metadata": {
        "id": "1Q7ocFZBoGRN"
      }
    },
    {
      "cell_type": "code",
      "source": [
        "df=df.set_index(\"PassengerId\")"
      ],
      "metadata": {
        "id": "NxabXnykm0k3"
      },
      "execution_count": null,
      "outputs": []
    },
    {
      "cell_type": "markdown",
      "source": [
        "## Create a pie chart presenting the male/female as proportions"
      ],
      "metadata": {
        "id": "OfjldIlYoQvV"
      }
    },
    {
      "cell_type": "code",
      "source": [
        "px.pie(df,names=\"Sex\")"
      ],
      "metadata": {
        "id": "Vkk48AVEm0hL"
      },
      "execution_count": null,
      "outputs": []
    },
    {
      "cell_type": "markdown",
      "source": [
        "## Create a scatterplot with the Fare payed and the Age, differ the plot color by gender"
      ],
      "metadata": {
        "id": "TMOnhV_1owPz"
      }
    },
    {
      "cell_type": "code",
      "source": [
        "px.scatter(df,x=\"Age\",y=\"Fare\",color=\"Sex\")"
      ],
      "metadata": {
        "id": "z2eaLFEbm0dJ"
      },
      "execution_count": null,
      "outputs": []
    },
    {
      "cell_type": "code",
      "source": [
        "sns.regplot(df,x=\"Age\",y=\"Fare\")"
      ],
      "metadata": {
        "id": "dI5Vys_XrQj2"
      },
      "execution_count": null,
      "outputs": []
    },
    {
      "cell_type": "code",
      "source": [
        "sns.scatterplot(df,x=\"Age\",y=\"Fare\",hue=\"Sex\")"
      ],
      "metadata": {
        "id": "qUrnjUqZrssu"
      },
      "execution_count": null,
      "outputs": []
    },
    {
      "cell_type": "markdown",
      "source": [
        "## How many people survived?"
      ],
      "metadata": {
        "id": "XWhRZAtvhOvE"
      }
    },
    {
      "cell_type": "code",
      "source": [
        "df.Survived.value_counts()"
      ],
      "metadata": {
        "id": "aMMgCDJ9hR5w"
      },
      "execution_count": null,
      "outputs": []
    },
    {
      "cell_type": "code",
      "source": [
        "fig=px.bar(df.Survived.value_counts(),text_auto=True)\n",
        "fig.update_layout(title=\"Distribution of \" + \"Survived\")\n",
        "fig.update_layout(xaxis_title= \"Survived\")\n",
        "fig.update_traces(textposition='outside')\n",
        "fig.update_layout(title_x=.5)\n",
        "fig.show()"
      ],
      "metadata": {
        "id": "S-ogp73z133s"
      },
      "execution_count": null,
      "outputs": []
    },
    {
      "cell_type": "code",
      "source": [
        "# Group and aggregate count of survived passengers by sex\n",
        "df_grouped = df.groupby(\"Sex\")[\"Survived\"].sum().reset_index()\n",
        "\n",
        "# Create figure\n",
        "fig = px.bar(df_grouped, x=\"Sex\", y=\"Survived\", color=\"Sex\", text=\"Survived\")\n",
        "\n",
        "# Update layout\n",
        "fig.update_layout(\n",
        "    title=\"Count of survived passengers by sex\",\n",
        "    xaxis_title=\"Sex\",\n",
        "    yaxis_title=\"Survival Count\"\n",
        ")\n",
        "\n",
        "# Adjust text position\n",
        "fig.update_traces(textposition=\"outside\")\n",
        "\n",
        "# Show the figure\n",
        "fig.show()"
      ],
      "metadata": {
        "id": "KKzzZ5hy7V-c"
      },
      "execution_count": null,
      "outputs": []
    },
    {
      "cell_type": "markdown",
      "source": [
        "# Create a histogram with the Fare payed"
      ],
      "metadata": {
        "id": "sVeF_Bh88J2n"
      }
    },
    {
      "cell_type": "code",
      "source": [
        "px.histogram(df,x=\"Fare\")"
      ],
      "metadata": {
        "id": "uml6CMsN8IuI"
      },
      "execution_count": null,
      "outputs": []
    },
    {
      "cell_type": "code",
      "source": [
        "sns.histplot(df[\"Fare\"],kde=True)"
      ],
      "metadata": {
        "id": "yXKfzF118lm3"
      },
      "execution_count": null,
      "outputs": []
    }
  ]
}